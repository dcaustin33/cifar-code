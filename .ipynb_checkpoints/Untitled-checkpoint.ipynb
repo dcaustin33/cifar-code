{
 "cells": [
  {
   "cell_type": "code",
   "execution_count": 5,
   "id": "3e07728f",
   "metadata": {},
   "outputs": [
    {
     "name": "stdout",
     "output_type": "stream",
     "text": [
      "Files already downloaded and verified\n",
      "Files already downloaded and verified\n"
     ]
    }
   ],
   "source": [
    "import argparse\n",
    "import torch\n",
    "from torch import nn\n",
    "import torch.nn.functional as F\n",
    "from torch.utils.data import DataLoader\n",
    "from torch.utils import data\n",
    "import torch\n",
    "import jax\n",
    "import jax.numpy as jnp\n",
    "import flax.linen as nn\n",
    "import optax\n",
    "from flax.training import train_state \n",
    "\n",
    "from utils import get_accuracy\n",
    "from lars import LARSWrapper\n",
    "import cifar_100\n",
    "from logger import log_metrics as logger\n",
    "import torch_trainer as trainer\n",
    "from resnet import resnet18\n",
    "import cifar_100\n",
    "\n",
    "#python helper inputs\n",
    "import os\n",
    "from pl_bolts.optimizers.lr_scheduler import LinearWarmupCosineAnnealingLR\n",
    "import wandb\n",
    "import pytorch_lightning as pl\n",
    "import time\n",
    "\n",
    "\n",
    "\n",
    "dataset_args = {\n",
    "                 'crop_size': 32,\n",
    "                 'brightness': 0.4, \n",
    "                 'contrast': 0.4, \n",
    "                 'saturation': .2, \n",
    "                 'hue': .1, \n",
    "                 'color_jitter_prob': .8, \n",
    "                 'gray_scale_prob': 0.2, \n",
    "                 'horizontal_flip_prob': 0.5, \n",
    "                 'gaussian_prob': .5, \n",
    "                 'min_scale': 0.16, \n",
    "                 'max_scale': 0.9}\n",
    "val_dataset_args = {\n",
    "                 'crop_size': 32,\n",
    "                 'brightness': 0.4, \n",
    "                 'contrast': 0.4, \n",
    "                 'saturation': .2, \n",
    "                 'hue': .1, \n",
    "                 'color_jitter_prob': 0, \n",
    "                 'gray_scale_prob': 0, \n",
    "                 'horizontal_flip_prob': 0.5, \n",
    "                 'gaussian_prob': 0, \n",
    "                 'min_scale': 0.9, \n",
    "                 'max_scale': 1}\n",
    "\n",
    "\n",
    "\n",
    "def prepare_data(dataset_args, val_dataset_args):\n",
    "    \n",
    "    train_dataset = cifar_100.CIFAR_100_transformations(train = True, **dataset_args)\n",
    "    dataloader = DataLoader(\n",
    "        train_dataset,\n",
    "        shuffle = True,\n",
    "        batch_size=2,\n",
    "        num_workers=2,\n",
    "        pin_memory=False,\n",
    "        drop_last=True,\n",
    "        persistent_workers=True\n",
    "    )\n",
    "\n",
    "    val_dataset = cifar_100.CIFAR_100_transformations(train = True, **val_dataset_args)\n",
    "    val_dataloader = DataLoader(\n",
    "        val_dataset,\n",
    "        shuffle = True,\n",
    "        batch_size=2,\n",
    "        num_workers=2,\n",
    "        pin_memory=False,\n",
    "        drop_last=True,\n",
    "        persistent_workers=False\n",
    "    )\n",
    "    return train_dataset, dataloader, val_dataloader\n",
    "\n",
    "\n",
    "def cross_entropy_loss(logits, labels):\n",
    "    labels_onehot = jax.nn.one_hot(labels, num_classes=10)\n",
    "    return optax.softmax_cross_entropy(logits=logits, labels=labels_onehot).mean()\n",
    "\n",
    "def compute_metrics(logits, labels):\n",
    "    loss = cross_entropy_loss(logits=logits, labels=labels)\n",
    "    accuracy = jnp.mean(jnp.argmax(logits, -1) == labels)\n",
    "    metrics = {\n",
    "        'loss': loss,\n",
    "        'accuracy': accuracy,\n",
    "        }\n",
    "    return metrics\n",
    "\n",
    "def create_train_state(rng, learning_rate, momentum):\n",
    "    \"\"\"Creates initial `TrainState`.\"\"\"\n",
    "    model = resnet18(cifar = True)\n",
    "    batch = jnp.ones((2, 32, 32, 3))  # (N, H, W, C) format\n",
    "    params = model.init(jax.random.PRNGKey(0), batch)['params']\n",
    "    tx = optax.sgd(learning_rate, momentum)\n",
    "    return train_state.TrainState.create(apply_fn=model.apply, params=params, tx=tx)\n",
    "\n",
    "@jax.jit\n",
    "def train_step(state, batch):\n",
    "\n",
    "    def loss_fn(params):\n",
    "        logits = resnet18().apply({'params': params}, batch['image0'])\n",
    "        loss = cross_entropy_loss(logits=logits, labels=batch['label'])\n",
    "        return loss, logits\n",
    "    \n",
    "    grad_fn = jax.value_and_grad(loss_fn, has_aux=True)\n",
    "    (_, logits), grads = grad_fn(state.params)\n",
    "    state = state.apply_gradients(grads=grads)\n",
    "    metrics = compute_metrics(logits=logits, labels=batch['label'])\n",
    "    \n",
    "    return state, metrics"
   ]
  },
  {
   "cell_type": "code",
   "execution_count": 6,
   "id": "cfaf1780",
   "metadata": {},
   "outputs": [
    {
     "name": "stdout",
     "output_type": "stream",
     "text": [
      "Files already downloaded and verified\n",
      "Files already downloaded and verified\n"
     ]
    }
   ],
   "source": [
    "train_dataset, dataloader, val_dataloader = prepare_data(dataset_args, val_dataset_args)\n",
    "for i, data in enumerate(dataloader):\n",
    "    data['image0'] = jnp.array(data['image0'])\n",
    "    break"
   ]
  },
  {
   "cell_type": "code",
   "execution_count": 8,
   "id": "86067cd2",
   "metadata": {},
   "outputs": [
    {
     "data": {
      "text/plain": [
       "(4, 3, 32, 32)"
      ]
     },
     "execution_count": 8,
     "metadata": {},
     "output_type": "execute_result"
    }
   ],
   "source": [
    "data['image0'].shape"
   ]
  },
  {
   "cell_type": "code",
   "execution_count": null,
   "id": "cd5c620f",
   "metadata": {},
   "outputs": [],
   "source": []
  }
 ],
 "metadata": {
  "kernelspec": {
   "display_name": "Python 3 (ipykernel)",
   "language": "python",
   "name": "python3"
  },
  "language_info": {
   "codemirror_mode": {
    "name": "ipython",
    "version": 3
   },
   "file_extension": ".py",
   "mimetype": "text/x-python",
   "name": "python",
   "nbconvert_exporter": "python",
   "pygments_lexer": "ipython3",
   "version": "3.9.12"
  }
 },
 "nbformat": 4,
 "nbformat_minor": 5
}
